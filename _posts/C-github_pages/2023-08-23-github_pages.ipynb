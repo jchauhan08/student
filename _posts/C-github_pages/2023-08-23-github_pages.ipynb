{
 "cells": [
  {
   "cell_type": "code",
   "execution_count": 6,
   "id": "e1e12223",
   "metadata": {
    "vscode": {
     "languageId": "javascript"
    }
   },
   "outputs": [
    {
     "data": {
      "application/javascript": "\nvar compsci_joke_list = [\n  { joke: \"Why do computer scientists prefer the metric system? They are all pro-gram-ers!\", difficulty: \"Easy\" },\n  { joke: \"Why do Java developers wear glasses? Because they can't C#.\", difficulty: \"Medium\" },\n  { joke: \"Why do programmers prefer dark mode? Because light attracts bugs.\", difficulty: \"Easy\" },\n  { joke: \"Why was the developer's code so clean? Because he used a broom() function.\", difficulty: \"Hard\" },\n  { joke: \"what do you get when you cross computer science and a pond. An Algae-rithm!\", difficulty: \"Medium\" }\n];\nvar randomIndex = Math.floor(Math.random() * csJokes.length);\nconsole.log(\"Here's a joke: \" + csJokes[randomIndex]);\n",
      "text/plain": [
       "<IPython.core.display.Javascript object>"
      ]
     },
     "metadata": {},
     "output_type": "display_data"
    }
   ],
   "source": [
    "%%javascript\n",
    "\n",
    "var compsci_joke_list = [\n",
    "  { joke: \"Why do computer scientists prefer the metric system? They are all pro-gram-ers!\", difficulty: \"Easy\" },\n",
    "  { joke: \"Why do Java developers wear glasses? Because they can't C#.\", difficulty: \"Medium\" },\n",
    "  { joke: \"Why do programmers prefer dark mode? Because light attracts bugs.\", difficulty: \"Easy\" },\n",
    "  { joke: \"Why was the developer's code so clean? Because he used a broom() function.\", difficulty: \"Hard\" },\n",
    "  { joke: \"what do you get when you cross computer science and a pond. An Algae-rithm!\", difficulty: \"Medium\" }\n",
    "];\n",
    "var randomIndex = Math.floor(Math.random() * csJokes.length);\n",
    "console.log(\"Here's a joke: \" + csJokes[randomIndex]);"
   ]
  },
  {
   "cell_type": "code",
   "execution_count": 8,
   "id": "751a3b1f",
   "metadata": {
    "vscode": {
     "languageId": "javascript"
    }
   },
   "outputs": [
    {
     "data": {
      "application/javascript": "\nvar compsci_joke_list = [\n    { joke: \"Why do programmers prefer dark mode? Because light attracts bugs.\", complexity: \"1\" },\n    { joke: \"Why do Java developers wear glasses? Because they don't see sharp.\", complexity: \"2\" },\n    { joke: \"How many programmers does it take to change a light bulb? None, that's a hardware problem.\", complexity: \"1\" },\n    { joke: \"Why do Python programmers prefer snake_case? Because they can't C.\", complexity: \"2\" },\n    { joke: \"Why was the JavaScript developer sad? Because he didn't know how to 'null' his feelings.\", complexity: \"3\" },\n    { joke: \"Why do programmers always mix up Christmas and Halloween? Because Oct 31 == Dec 25.\", complexity: \"3\" },\n    { joke: \"Why did the programmer quit his job? Because he didn't get arrays.\", complexity: \"O(n)\" },\n    { joke: \"Why do Linux programmers prefer using the terminal? Because they don't like Windows.\", complexity: \"1\" },\n];\nvar randomIndex = Math.floor(Math.random() * compsci_joke_list.length);\nvar selectedJoke = compsci_joke_list[randomIndex];\nconsole.log(\"Joke #\" + (randomIndex + 1) + \": \" + selectedJoke.joke + \" (Complexity: \" + selectedJoke.complexity + \")\");\n\n// Create DOM elements in notebook output\nvar container = document.createElement(\"div\");\ncontainer.style.border = \"1px solid #333\";\ncontainer.style.padding = \"10px\";\ncontainer.style.margin = \"10px 0\";\ncontainer.style.borderRadius = \"5px\";\n\n\nvar jokeText = document.createElement(\"p\");\njokeText.textContent = selectedJoke.joke;\n\n\nvar complexityText = document.createElement(\"p\");\ncomplexityText.textContent = \"Complexity: \" + selectedJoke.complexity;\ncomplexityText.style.color = \"gray\";\n\n\ncontainer.appendChild(jokeText);\ncontainer.appendChild(complexityText);\n\n\n// Append to notebook output area\nelement.append(container);\n",
      "text/plain": [
       "<IPython.core.display.Javascript object>"
      ]
     },
     "metadata": {},
     "output_type": "display_data"
    }
   ],
   "source": [
    "%%javascript\n",
    "\n",
    "var compsci_joke_list = [\n",
    "    { joke: \"Why do programmers prefer dark mode? Because light attracts bugs.\", complexity: \"1\" },\n",
    "    { joke: \"Why do Java developers wear glasses? Because they don't see sharp.\", complexity: \"2\" },\n",
    "    { joke: \"How many programmers does it take to change a light bulb? None, that's a hardware problem.\", complexity: \"1\" },\n",
    "    { joke: \"Why do Python programmers prefer snake_case? Because they can't C.\", complexity: \"2\" },\n",
    "    { joke: \"Why was the JavaScript developer sad? Because he didn't know how to 'null' his feelings.\", complexity: \"3\" },\n",
    "    { joke: \"Why do programmers always mix up Christmas and Halloween? Because Oct 31 == Dec 25.\", complexity: \"3\" },\n",
    "    { joke: \"Why did the programmer quit his job? Because he didn't get arrays.\", complexity: \"O(n)\" },\n",
    "    { joke: \"Why do Linux programmers prefer using the terminal? Because they don't like Windows.\", complexity: \"1\" },\n",
    "];\n",
    "var randomIndex = Math.floor(Math.random() * compsci_joke_list.length);\n",
    "var selectedJoke = compsci_joke_list[randomIndex];\n",
    "console.log(\"Joke #\" + (randomIndex + 1) + \": \" + selectedJoke.joke + \" (Complexity: \" + selectedJoke.complexity + \")\");\n",
    "\n",
    "// Create DOM elements in notebook output\n",
    "var container = document.createElement(\"div\");\n",
    "container.style.border = \"1px solid #333\";\n",
    "container.style.padding = \"10px\";\n",
    "container.style.margin = \"10px 0\";\n",
    "container.style.borderRadius = \"5px\";\n",
    "\n",
    "\n",
    "var jokeText = document.createElement(\"p\");\n",
    "jokeText.textContent = selectedJoke.joke;\n",
    "\n",
    "\n",
    "var complexityText = document.createElement(\"p\");\n",
    "complexityText.textContent = \"Complexity: \" + selectedJoke.complexity;\n",
    "complexityText.style.color = \"gray\";\n",
    "\n",
    "\n",
    "container.appendChild(jokeText);\n",
    "container.appendChild(complexityText);\n",
    "\n",
    "\n",
    "// Append to notebook output area\n",
    "element.append(container);\n"
   ]
  },
  {
   "cell_type": "raw",
   "id": "d117ad9b",
   "metadata": {
    "vscode": {
     "languageId": "raw"
    }
   },
   "source": [
    "---\n",
    "layout: post\n",
    "title: GitHub Pages\n",
    "description: The Web Programming topics are focused on learning Frontend programming, GitHub Pages, and Jupyter Notebooks.\n",
    "categories: ['JavaScript']\n",
    "permalink: /github/pages/intro\n",
    "type: ccc\n",
    "courses: {'csse': {'week': 2}, 'csp': {'week': 2}, 'csa': {'week': 1}}\n",
    "author: John Mortensen\n",
    "menu: nav/github_pages.html\n",
    "---"
   ]
  }
 ],
 "metadata": {
  "kernelspec": {
   "display_name": ".venv",
   "language": "python",
   "name": "python3"
  },
  "language_info": {
   "codemirror_mode": {
    "name": "ipython",
    "version": 3
   },
   "file_extension": ".py",
   "mimetype": "text/x-python",
   "name": "python",
   "nbconvert_exporter": "python",
   "pygments_lexer": "ipython3",
   "version": "3.13.7"
  }
 },
 "nbformat": 4,
 "nbformat_minor": 5
}
